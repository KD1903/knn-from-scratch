{
 "cells": [
  {
   "cell_type": "code",
   "execution_count": 120,
   "metadata": {},
   "outputs": [],
   "source": [
    "import csv\n",
    "from math import sqrt"
   ]
  },
  {
   "cell_type": "markdown",
   "metadata": {},
   "source": [
    "Read train and test data"
   ]
  },
  {
   "cell_type": "code",
   "execution_count": 121,
   "metadata": {},
   "outputs": [],
   "source": [
    "with open('wine_train.txt', 'r') as csvfile:\n",
    "    lines = csv.reader(csvfile)\n",
    "    data = list(lines)\n",
    "\n",
    "    traindata = []\n",
    "    trainlabel = []\n",
    "\n",
    "    #split data and label\n",
    "    for i in data:\n",
    "        traindata.append(list(map(float, i[:-1])))\n",
    "        trainlabel.append(int(i[-1]))\n",
    "\n",
    "\n",
    "with open('wine_test.txt', 'r') as csvfile:\n",
    "    lines = csv.reader(csvfile)\n",
    "    data = list(lines)\n",
    "\n",
    "    testdata = []\n",
    "    testlabel = []\n",
    "\n",
    "    #split data and label\n",
    "    for i in data:\n",
    "        testdata.append(list(map(float, i[:-1])))\n",
    "        testlabel.append(int(i[-1]))"
   ]
  },
  {
   "cell_type": "markdown",
   "metadata": {},
   "source": [
    "define euclidean function"
   ]
  },
  {
   "cell_type": "code",
   "execution_count": 122,
   "metadata": {},
   "outputs": [],
   "source": [
    "def euclidean_distance(row1, row2):\n",
    "\tdistance = 0.0\n",
    "\tfor i in range(len(row1)):\n",
    "\t\tdistance += (row1[i] - row2[i])**2\n",
    "\treturn sqrt(distance)"
   ]
  },
  {
   "cell_type": "markdown",
   "metadata": {},
   "source": [
    "main knn function"
   ]
  },
  {
   "cell_type": "code",
   "execution_count": 123,
   "metadata": {},
   "outputs": [],
   "source": [
    "def myKNN(traindata, trainlabel, testdata, k):\n",
    "    testpredict = []\n",
    "\n",
    "    #iterate through all testdata\n",
    "    for testrow in testdata:\n",
    "        distances = list()\n",
    "\n",
    "        #find euclidean distance from all train data \n",
    "        for i in range(len(traindata)):\n",
    "            trainrow = traindata[i]\n",
    "            trainrowlabel = trainlabel[i]\n",
    "\n",
    "            dist = euclidean_distance(testrow, trainrow)\n",
    "            distances.append((trainrow, trainrowlabel, dist))\n",
    "\n",
    "        #sort by distance score\n",
    "        distances.sort(key=lambda tup: tup[2])\n",
    "\n",
    "        predictions = list()\n",
    "        \n",
    "        #take top k values of predicted data\n",
    "        for i in range(k):\n",
    "            predictions.append(distances[i][1])\n",
    "\n",
    "        #find final prediction from top k predictions\n",
    "        output_values = predictions\n",
    "        prediction = max(set(output_values), key=output_values.count)\n",
    "        \n",
    "        #save prediction\n",
    "        testpredict.append(prediction)\n",
    "\n",
    "    return testpredict"
   ]
  },
  {
   "cell_type": "code",
   "execution_count": 124,
   "metadata": {},
   "outputs": [],
   "source": [
    "k = 25"
   ]
  },
  {
   "cell_type": "code",
   "execution_count": 125,
   "metadata": {},
   "outputs": [],
   "source": [
    "testpredict = myKNN(traindata, trainlabel, testdata, k)"
   ]
  },
  {
   "cell_type": "code",
   "execution_count": 126,
   "metadata": {},
   "outputs": [
    {
     "name": "stdout",
     "output_type": "stream",
     "text": [
      "k = 25\n",
      "predicted and actual class\n",
      "6 \t\t 6\n",
      "6 \t\t 6\n",
      "6 \t\t 6\n",
      "6 \t\t 6\n",
      "6 \t\t 7\n",
      "6 \t\t 6\n",
      "6 \t\t 8\n",
      "6 \t\t 6\n",
      "6 \t\t 5\n",
      "6 \t\t 8\n",
      "6 \t\t 7\n",
      "6 \t\t 6\n",
      "6 \t\t 6\n",
      "6 \t\t 7\n",
      "6 \t\t 6\n",
      "6 \t\t 6\n",
      "6 \t\t 5\n",
      "6 \t\t 5\n",
      "6 \t\t 6\n",
      "6 \t\t 5\n",
      "6 \t\t 6\n",
      "6 \t\t 6\n",
      "6 \t\t 7\n",
      "6 \t\t 4\n",
      "6 \t\t 5\n",
      "6 \t\t 5\n",
      "6 \t\t 6\n",
      "6 \t\t 7\n",
      "6 \t\t 6\n",
      "6 \t\t 6\n",
      "6 \t\t 6\n",
      "6 \t\t 6\n",
      "6 \t\t 6\n",
      "6 \t\t 6\n",
      "6 \t\t 6\n",
      "6 \t\t 6\n",
      "correct 22 total 36 percentage 61.111111111111114\n"
     ]
    }
   ],
   "source": [
    "print(f\"k = {k}\")\n",
    "print(\"predicted and actual class\")\n",
    "\n",
    "correct_predictions = 0\n",
    "\n",
    "for i in range(len(testpredict)):\n",
    "    print(testpredict[i], \"\\t\\t\", testlabel[i])\n",
    "\n",
    "    if testpredict[i] == testlabel[i]:\n",
    "        correct_predictions += 1\n",
    "\n",
    "print(\"correct\", correct_predictions, \"total\", len(testpredict), \"percentage\", correct_predictions*100/len(testpredict))"
   ]
  },
  {
   "cell_type": "code",
   "execution_count": null,
   "metadata": {},
   "outputs": [],
   "source": []
  },
  {
   "cell_type": "code",
   "execution_count": null,
   "metadata": {},
   "outputs": [],
   "source": []
  },
  {
   "cell_type": "code",
   "execution_count": null,
   "metadata": {},
   "outputs": [],
   "source": []
  },
  {
   "cell_type": "code",
   "execution_count": null,
   "metadata": {},
   "outputs": [],
   "source": []
  }
 ],
 "metadata": {
  "kernelspec": {
   "display_name": "Python 3.8.10 ('env_chegg': venv)",
   "language": "python",
   "name": "python3"
  },
  "language_info": {
   "codemirror_mode": {
    "name": "ipython",
    "version": 3
   },
   "file_extension": ".py",
   "mimetype": "text/x-python",
   "name": "python",
   "nbconvert_exporter": "python",
   "pygments_lexer": "ipython3",
   "version": "3.8.10"
  },
  "orig_nbformat": 4,
  "vscode": {
   "interpreter": {
    "hash": "3ec9017277ce151481bbcfa0e1de223679431f7ed1080f876e42b6b073114b8d"
   }
  }
 },
 "nbformat": 4,
 "nbformat_minor": 2
}
